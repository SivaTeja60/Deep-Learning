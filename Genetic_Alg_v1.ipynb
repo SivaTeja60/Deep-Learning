{
 "cells": [
  {
   "cell_type": "code",
   "execution_count": 265,
   "metadata": {},
   "outputs": [],
   "source": [
    "import numpy as np # linear algebra\n",
    "import pandas as pd # data processing, CSV file I/O (e.g. pd.read_csv)\n",
    "import random\n",
    "import os, math\n",
    "#print(os.listdir(\"../input\"))"
   ]
  },
  {
   "cell_type": "code",
   "execution_count": 211,
   "metadata": {},
   "outputs": [
    {
     "name": "stdout",
     "output_type": "stream",
     "text": [
      "Population type:  <class 'list'>\n",
      "8\n"
     ]
    },
    {
     "data": {
      "text/plain": [
       "[[1, 0, 0, 1, 1, 1, 1, 0, 0, 1, 1, 0, 0, 1, 0, 0],\n",
       " [0, 1, 1, 0, 1, 1, 0, 0, 0, 1, 0, 0, 1, 1, 1, 1],\n",
       " [0, 1, 0, 1, 1, 0, 0, 0, 1, 0, 0, 0, 0, 1, 0, 1],\n",
       " [1, 1, 0, 1, 1, 1, 1, 0, 1, 0, 0, 0, 1, 0, 1, 0],\n",
       " [0, 1, 0, 1, 0, 0, 1, 1, 0, 0, 0, 0, 0, 0, 1, 0],\n",
       " [1, 0, 1, 1, 0, 0, 0, 1, 1, 0, 1, 1, 0, 0, 0, 0],\n",
       " [0, 1, 0, 1, 0, 0, 1, 1, 1, 0, 1, 0, 0, 1, 1, 1],\n",
       " [1, 0, 1, 0, 0, 0, 1, 1, 0, 0, 0, 1, 0, 0, 1, 1]]"
      ]
     },
     "execution_count": 211,
     "metadata": {},
     "output_type": "execute_result"
    }
   ],
   "source": [
    "#initialize population\n",
    "\n",
    "random.seed(23)\n",
    "best = -100000\n",
    "# Populating Signed-bits\n",
    "#populations = ([[random.randint(0,1) for x in range(6)] for i in range(4)])\n",
    "#populations = ([[random.randint(0,1) for x in range(4)] for i in range(8)]) #Q-Assignment\n",
    "populations = ([[random.randint(0,1) for x in range(16)] for i in range(8)]) \n",
    "print('Population type: ', type(populations))\n",
    "parents = []\n",
    "new_populations = []\n",
    "print(len(populations))\n",
    "populations"
   ]
  },
  {
   "cell_type": "code",
   "execution_count": 226,
   "metadata": {},
   "outputs": [],
   "source": [
    "list_x = []\n",
    "list_y = []\n",
    "for i in range(len(populations)):\n",
    "    list_x.append(populations[i][:len(populations[i])//2])\n",
    "    list_y.append(populations[i][len(populations[i])//2:])"
   ]
  },
  {
   "cell_type": "code",
   "execution_count": 254,
   "metadata": {},
   "outputs": [
    {
     "name": "stdout",
     "output_type": "stream",
     "text": [
      "0.4784313725490197\n",
      "-0.3058823529411765\n",
      "-0.6196078431372549\n",
      "1.4823529411764707\n",
      "-0.6980392156862745\n",
      "0.776470588235294\n",
      "-0.6980392156862745\n",
      "0.556862745098039\n",
      "-0.43137254901960786\n",
      "-0.7607843137254902\n",
      "0.0862745098039217\n",
      "0.16470588235294104\n",
      "-1.9686274509803923\n",
      "0.7607843137254902\n",
      "0.6196078431372549\n",
      "-1.7019607843137254\n"
     ]
    }
   ],
   "source": [
    "# Normalizing the values from 8-bit to (-2, 2) range.\n",
    "obs_value = 4/(256-1)\n",
    "obs_value\n",
    "\n",
    "# To obtain the actual values of x and y, we multiply their decimal values with obs_value and subtract 2 from it.\n",
    "for i in range(len(chromosome_values)):\n",
    "    print(chromosome_values[i]*obs_value - 2)"
   ]
  },
  {
   "cell_type": "code",
   "execution_count": 258,
   "metadata": {},
   "outputs": [
    {
     "name": "stdout",
     "output_type": "stream",
     "text": [
      "-- Chromosome Values:  [158, 108, 88, 222, 83, 177, 83, 163]\n",
      "-- Chromosome Values:  [100, 79, 133, 138, 2, 176, 167, 19]\n"
     ]
    }
   ],
   "source": [
    "#fitness score calculation ............\n",
    "#chromosome_values = []\n",
    "def fitness_score(populations) :\n",
    "    chromosome_values = []\n",
    "    global best, fit_value\n",
    "    fit_value = []\n",
    "    fit_score=[]\n",
    "    #print(populations)\n",
    "    #print('--- Chromosomes values: ')\n",
    "    for i in range(len(populations)) :\n",
    "        chromosome_value=0\n",
    "        for j in range(7,-1,-1) :\n",
    "            #print('J Value: ', j)\n",
    "            chromosome_value += populations[i][j]*(2**(7-j))\n",
    "            #print('Population: ', populations[i][j])\n",
    "            #print('Chromosome Value: ', chromosome_value)\n",
    "        #chromosome_value = -1*chromosome_value if populations[i][0]==1 else chromosome_value\n",
    "        #print(chromosome_value)\n",
    "        chromosome_values.append(chromosome_value)\n",
    "        #fit_value.append(-(chromosome_value**2) + 5 )\n",
    "    print('-- Chromosome Values: ', chromosome_values)\n",
    "    return chromosome_values\n",
    "    #print('-- Fitness Values: ', fit_value)\n",
    "    #print(fit_value)\n",
    "    #fit_value, populations = zip(*sorted(zip(fit_value, populations) , reverse = True))\n",
    "    #best= fit_value[0]\n",
    "list_x_chromosome_values = fitness_score(list_x)\n",
    "list_y_chromosome_values = fitness_score(list_y)"
   ]
  },
  {
   "cell_type": "code",
   "execution_count": 261,
   "metadata": {},
   "outputs": [],
   "source": [
    "# To obtain the actual values of x and y, we multiply their decimal values with obs_value and subtract 2 from it.\n",
    "list_x_norm_values = []\n",
    "list_y_norm_values = []\n",
    "\n",
    "for i in range(len(list_x_chromosome_values)):\n",
    "    list_x_norm_values.append(list_x_chromosome_values[i]*obs_value - 2)\n",
    "    \n",
    "for i in range(len(list_y_chromosome_values)):\n",
    "    list_y_norm_values.append(list_y_chromosome_values[i]*obs_value - 2)"
   ]
  },
  {
   "cell_type": "code",
   "execution_count": 286,
   "metadata": {},
   "outputs": [
    {
     "name": "stdout",
     "output_type": "stream",
     "text": [
      "0.3038698957132166\n",
      "2.1629458865633606\n",
      "0.9365601937080393\n",
      "0.16478827047149533\n",
      "0.7237165477958871\n",
      "0.05151029756802226\n",
      "0.40072396909433605\n",
      "0.18193970128943038\n"
     ]
    }
   ],
   "source": [
    "#Calculating Fitness Values - fit_value.append(-(chromosome_value**2) + 5 )\n",
    "fitness_values = []\n",
    "def calc_fitness_value(x, y):\n",
    "    res= ((1-x)*2) * math.exp(-(x**2)-(y+1)**2) - (x - x**3 - y**3) * math.exp(-(x**2)-(y**2))\n",
    "    return res\n",
    "\n",
    "for i in range(len(list_x_chromosome_values)):\n",
    "    x = list_x_norm_values[i]\n",
    "    y = list_y_norm_values[i]\n",
    "    #print(x, y)\n",
    "    resulted_value = calc_fitness_value(x, y)\n",
    "    print(resulted_value)\n",
    "    fitness_values.append(resulted_value)"
   ]
  },
  {
   "cell_type": "code",
   "execution_count": 284,
   "metadata": {},
   "outputs": [
    {
     "data": {
      "text/plain": [
       "[0.3038698957132166,\n",
       " 2.1629458865633606,\n",
       " 0.9365601937080393,\n",
       " 0.16478827047149533,\n",
       " 0.7237165477958871,\n",
       " 0.05151029756802226,\n",
       " 0.40072396909433605,\n",
       " 0.18193970128943038]"
      ]
     },
     "execution_count": 284,
     "metadata": {},
     "output_type": "execute_result"
    }
   ],
   "source": [
    "fitness_values"
   ]
  }
 ],
 "metadata": {
  "kernelspec": {
   "display_name": "Python 3",
   "language": "python",
   "name": "python3"
  },
  "language_info": {
   "codemirror_mode": {
    "name": "ipython",
    "version": 3
   },
   "file_extension": ".py",
   "mimetype": "text/x-python",
   "name": "python",
   "nbconvert_exporter": "python",
   "pygments_lexer": "ipython3",
   "version": "3.8.5"
  }
 },
 "nbformat": 4,
 "nbformat_minor": 2
}
